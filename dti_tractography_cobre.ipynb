{
 "cells": [
  {
   "cell_type": "code",
   "execution_count": 2,
   "id": "6702d837",
   "metadata": {},
   "outputs": [
    {
     "name": "stderr",
     "output_type": "stream",
     "text": [
      "/tmp/ipykernel_3086/903397807.py:40: DeprecationWarning: Please use `binary_dilation` from the `scipy.ndimage` namespace, the `scipy.ndimage.morphology` namespace is deprecated.\n",
      "  from scipy.ndimage.morphology import binary_dilation\n"
     ]
    }
   ],
   "source": [
    "\"\"\"\n",
    "====================\n",
    "Tracking Quick Start\n",
    "====================\n",
    "\n",
    "This example shows how to perform fast fiber tracking using DIPY_\n",
    "[Garyfallidis12]_.\n",
    "\n",
    "We will use Constrained Spherical Deconvolution (CSD) [Tournier07]_ for local\n",
    "reconstruction and then generate deterministic streamlines using the fiber\n",
    "directions (peaks) from CSD and fractional anisotropic (FA) from DTI as a\n",
    "stopping criteria for the tracking.\n",
    "\n",
    "Let's load the necessary modules.\n",
    "\"\"\"\n",
    "\n",
    "import numpy as np\n",
    "from dipy.tracking.local_tracking import LocalTracking\n",
    "from dipy.tracking.streamline import Streamlines\n",
    "from dipy.tracking.utils import random_seeds_from_mask\n",
    "from dipy.reconst.dti import TensorModel\n",
    "from dipy.reconst.csdeconv import (ConstrainedSphericalDeconvModel,\n",
    "                                   auto_response,auto_response_ssst)\n",
    "from dipy.direction import peaks_from_model\n",
    "from dipy.data import fetch_stanford_hardi, read_stanford_hardi, get_sphere,fetch_stanford_labels,read_stanford_labels\n",
    "from dipy.segment.mask import median_otsu\n",
    "# from dipy.viz import actor, window\n",
    "from dipy.io.image import save_nifti\n",
    "from nibabel.streamlines import save as save_trk\n",
    "from nibabel.streamlines import Tractogram\n",
    "from dipy.tracking.streamline import Streamlines\n",
    "from dipy.tracking import utils\n",
    "from dipy.io.gradients import read_bvals_bvecs\n",
    "from dipy.core.gradients import gradient_table\n",
    "\n",
    "from dipy.data import get_fnames\n",
    "from dipy.io.image import load_nifti_data, load_nifti, save_nifti\n",
    "import matplotlib.pyplot as plt\n",
    "from dipy.tracking.stopping_criterion import BinaryStoppingCriterion\n",
    "from scipy.ndimage.morphology import binary_dilation\n",
    "from dipy.tracking.stopping_criterion import ThresholdStoppingCriterion\n",
    "\n",
    "from dipy.reconst import shm\n",
    "from dipy.direction import peaks\n",
    "import nibabel as nib\n",
    "import os"
   ]
  },
  {
   "cell_type": "code",
   "execution_count": 3,
   "id": "28813e52",
   "metadata": {},
   "outputs": [],
   "source": [
    "ids =\"sub-A00000300\""
   ]
  },
  {
   "cell_type": "code",
   "execution_count": 4,
   "id": "5216fd7d",
   "metadata": {},
   "outputs": [],
   "source": [
    "fdwi=f'/workspace/home/zubrikhina/datasets/COBRE_preproc_dti/{ids}/{ids}_dwi.nii_EC.nii.gz'\n",
    "fbval =f'/workspace/home/zubrikhina/datasets/COBRE_preproc_dti/{ids}/{ids}_dwi.bval'\n",
    "fbvec_adj= f'/workspace/home/zubrikhina/datasets/COBRE_preproc_dti/{ids}/{ids}_adjs.bvec'\n",
    "altas_dti =f'/workspace/home/zubrikhina/datasets/COBRE_preproc_dti/{ids}/{ids}_labels.nii.gz'\n",
    "mask_path =f'/workspace/home/zubrikhina/datasets/COBRE_preproc_dti/{ids}/{ids}_mask.nii'"
   ]
  },
  {
   "cell_type": "code",
   "execution_count": 119,
   "id": "2f7eed79-1432-4ddc-9d7c-085c87c8ae4a",
   "metadata": {},
   "outputs": [],
   "source": [
    "wmseg_path=f'/workspace/home/zubrikhina/datasets/COBRE_preproc_dti/{ids}/{ids}_wmseg-in-DTI.nii.gz'"
   ]
  },
  {
   "cell_type": "code",
   "execution_count": 120,
   "id": "e4bc86eb-eaa7-4e77-9b3f-3a9deb2b20b5",
   "metadata": {},
   "outputs": [],
   "source": [
    "wmseg_path_original=f'/workspace/home/zubrikhina/datasets/COBRE_preproc_dti/{ids}/wm.seg.mgz'"
   ]
  },
  {
   "cell_type": "code",
   "execution_count": 121,
   "id": "c7b5cff9-322b-464f-a8a9-2fcfe6984808",
   "metadata": {},
   "outputs": [],
   "source": [
    "white_matter_orig =nib.load(wmseg_path_original)"
   ]
  },
  {
   "cell_type": "code",
   "execution_count": 122,
   "id": "aed9722c-8f86-41f4-a6da-64e0495db1d4",
   "metadata": {},
   "outputs": [
    {
     "data": {
      "text/plain": [
       "(256, 256, 256)"
      ]
     },
     "execution_count": 122,
     "metadata": {},
     "output_type": "execute_result"
    }
   ],
   "source": [
    "white_matter_orig.shape"
   ]
  },
  {
   "cell_type": "code",
   "execution_count": 123,
   "id": "c8e3475a-c9dd-47dd-8edd-06f9fc390c9b",
   "metadata": {},
   "outputs": [
    {
     "name": "stderr",
     "output_type": "stream",
     "text": [
      "/tmp/ipykernel_98/2407742234.py:1: DeprecationWarning: `np.int` is a deprecated alias for the builtin `int`. To silence this warning, use `int` by itself. Doing this will not modify any behavior and is safe. When replacing `np.int`, you may wish to use e.g. `np.int64` or `np.int32` to specify the precision. If you wish to review your current use, check the release note link for additional information.\n",
      "Deprecated in NumPy 1.20; for more details and guidance: https://numpy.org/devdocs/release/1.20.0-notes.html#deprecations\n",
      "  wm_seg_image = np.array(white_matter_orig.dataobj).astype(np.int)\n"
     ]
    }
   ],
   "source": [
    "wm_seg_image = np.array(white_matter_orig.dataobj).astype(np.int)"
   ]
  },
  {
   "cell_type": "code",
   "execution_count": 124,
   "id": "d4c02a81-b79e-425a-ab81-d50ca768697a",
   "metadata": {},
   "outputs": [
    {
     "data": {
      "text/plain": [
       "array([  0,  82,  83,  84,  85,  86,  87,  88,  89,  90,  91,  92,  93,\n",
       "        94,  95,  96,  97,  98,  99, 100, 101, 102, 103, 104, 105, 106,\n",
       "       107, 108, 109, 110, 111, 112, 113, 114, 115, 116, 117, 118, 119,\n",
       "       120, 121, 122, 123, 124, 125, 126, 127, 200, 210, 230])"
      ]
     },
     "execution_count": 124,
     "metadata": {},
     "output_type": "execute_result"
    }
   ],
   "source": [
    "np.unique(wm_seg_image)"
   ]
  },
  {
   "cell_type": "code",
   "execution_count": 125,
   "id": "285e5cbe-61ff-4a8d-b9be-c4cedc0e631d",
   "metadata": {},
   "outputs": [],
   "source": [
    "white_matter = load_nifti_data(wmseg_path)"
   ]
  },
  {
   "cell_type": "code",
   "execution_count": 126,
   "id": "89788ee9-1ce7-49c1-96a5-7194868a6ed7",
   "metadata": {},
   "outputs": [],
   "source": [
    "data, last_affine, img = load_nifti(fdwi, return_img=True)"
   ]
  },
  {
   "cell_type": "code",
   "execution_count": 127,
   "id": "3e52db93-3bcd-4fad-810b-80a2002fe0de",
   "metadata": {},
   "outputs": [
    {
     "data": {
      "text/plain": [
       "(128, 128, 72)"
      ]
     },
     "execution_count": 127,
     "metadata": {},
     "output_type": "execute_result"
    }
   ],
   "source": [
    "white_matter.shape"
   ]
  },
  {
   "cell_type": "code",
   "execution_count": 128,
   "id": "90e6490b-40d8-4f26-89a4-4b7ecf3db63e",
   "metadata": {},
   "outputs": [
    {
     "data": {
      "text/plain": [
       "(128, 128, 72, 35)"
      ]
     },
     "execution_count": 128,
     "metadata": {},
     "output_type": "execute_result"
    }
   ],
   "source": [
    "data.shape"
   ]
  },
  {
   "cell_type": "code",
   "execution_count": 129,
   "id": "0bcda46e-9402-4e6a-ad0d-905817cbb394",
   "metadata": {},
   "outputs": [],
   "source": [
    "#white_matter=white_matter>3000"
   ]
  },
  {
   "cell_type": "code",
   "execution_count": 130,
   "id": "eec582b0-0868-43fc-af9e-de3af00eff58",
   "metadata": {},
   "outputs": [
    {
     "data": {
      "text/plain": [
       "array([  0,  82,  83,  84,  85,  86,  87,  88,  89,  90,  91,  92,  93,\n",
       "        94,  95,  96,  97,  98,  99, 100, 101, 102, 103, 104, 105, 106,\n",
       "       107, 108, 109, 110, 111, 112, 113, 114, 115, 116, 117, 118, 119,\n",
       "       120, 121, 122, 200, 210, 230], dtype=uint8)"
      ]
     },
     "execution_count": 130,
     "metadata": {},
     "output_type": "execute_result"
    }
   ],
   "source": [
    "np.unique(white_matter)"
   ]
  },
  {
   "cell_type": "code",
   "execution_count": 131,
   "id": "a14df7b0-e3e3-4cda-b67f-1908110239d4",
   "metadata": {},
   "outputs": [
    {
     "data": {
      "image/png": "[encoded data removed]",
      "text/plain": [
       "<Figure size 640x480 with 2 Axes>"
      ]
     },
     "metadata": {},
     "output_type": "display_data"
    },
    {
     "data": {
      "text/plain": [
       "<Figure size 640x480 with 0 Axes>"
      ]
     },
     "metadata": {},
     "output_type": "display_data"
    }
   ],
   "source": [
    "axial_middle = data.shape[2] // 2\n",
    "plt.figure('Showing the datasets')\n",
    "plt.subplot(1, 2, 1).set_axis_off()\n",
    "plt.imshow(data[:, :, axial_middle, 3].T, cmap='gray', origin='lower')\n",
    "plt.subplot(1, 2, 2).set_axis_off()\n",
    "plt.imshow(data[:, :, axial_middle, 3].T, cmap='gray', origin='lower')\n",
    "plt.show()\n",
    "plt.savefig('data.png', bbox_inches='tight')"
   ]
  },
  {
   "cell_type": "code",
   "execution_count": 132,
   "id": "72dd820b-2907-4d6c-89ee-035421b7136c",
   "metadata": {},
   "outputs": [
    {
     "data": {
      "image/png": "[encoded data removed]",
      "text/plain": [
       "<Figure size 640x480 with 2 Axes>"
      ]
     },
     "metadata": {},
     "output_type": "display_data"
    },
    {
     "data": {
      "text/plain": [
       "<Figure size 640x480 with 0 Axes>"
      ]
     },
     "metadata": {},
     "output_type": "display_data"
    }
   ],
   "source": [
    "axial_middle = data.shape[2] // 2\n",
    "plt.figure('Showing the datasets')\n",
    "plt.subplot(1, 2, 1).set_axis_off()\n",
    "plt.imshow(data[:, :, axial_middle, 3].T, cmap='gray', origin='lower')\n",
    "plt.subplot(1, 2, 2).set_axis_off()\n",
    "plt.imshow(data[:, :, axial_middle, 3].T, cmap='gray', origin='lower')\n",
    "plt.show()\n",
    "plt.savefig('data.png', bbox_inches='tight')"
   ]
  },
  {
   "cell_type": "code",
   "execution_count": 133,
   "id": "28c5a9eb-c57d-4939-8100-6df3aec9912d",
   "metadata": {},
   "outputs": [
    {
     "data": {
      "image/png": "[encoded data removed]",
      "text/plain": [
       "<Figure size 640x480 with 2 Axes>"
      ]
     },
     "metadata": {},
     "output_type": "display_data"
    },
    {
     "data": {
      "text/plain": [
       "<Figure size 640x480 with 0 Axes>"
      ]
     },
     "metadata": {},
     "output_type": "display_data"
    }
   ],
   "source": [
    "axial_middle = white_matter.shape[2] // 2\n",
    "plt.figure('Showing the datasets')\n",
    "plt.subplot(1, 2, 1).set_axis_off()\n",
    "plt.imshow(white_matter[:, :, axial_middle].T, cmap='gray', origin='lower')\n",
    "plt.subplot(1, 2, 2).set_axis_off()\n",
    "plt.imshow(white_matter[:, :, axial_middle].T, cmap='gray', origin='lower')\n",
    "plt.show()\n",
    "plt.savefig('data.png', bbox_inches='tight')"
   ]
  },
  {
   "cell_type": "code",
   "execution_count": 134,
   "id": "dc89cfce-3bcb-4cdf-8704-93ec5220196e",
   "metadata": {},
   "outputs": [
    {
     "data": {
      "image/png": "[encoded data removed]",
      "text/plain": [
       "<Figure size 640x480 with 2 Axes>"
      ]
     },
     "metadata": {},
     "output_type": "display_data"
    },
    {
     "data": {
      "text/plain": [
       "<Figure size 640x480 with 0 Axes>"
      ]
     },
     "metadata": {},
     "output_type": "display_data"
    }
   ],
   "source": [
    "axial_middle = white_matter.shape[2] // 2\n",
    "plt.figure('Showing the datasets')\n",
    "plt.subplot(1, 2, 1).set_axis_off()\n",
    "plt.imshow(white_matter[:, :, axial_middle].T, cmap='gray', origin='lower')\n",
    "plt.subplot(1, 2, 2).set_axis_off()\n",
    "plt.imshow(white_matter[:, :, axial_middle].T, cmap='gray', origin='lower')\n",
    "plt.show()\n",
    "plt.savefig('data.png', bbox_inches='tight')"
   ]
  },
  {
   "cell_type": "code",
   "execution_count": 146,
   "id": "b00f2f4e-1f7d-44c4-9414-5b0d15221e4a",
   "metadata": {},
   "outputs": [],
   "source": [
    "mask_data, mask_affine, mask_img = load_nifti(mask_path, return_img=True)\n",
    "    \n",
    "affine = np.eye(4)\n",
    "    \n",
    "seeds = utils.seeds_from_mask(mask_data, mask_affine, density=1)"
   ]
  },
  {
   "cell_type": "code",
   "execution_count": 155,
   "id": "c349ca64-a76f-46fa-9838-e927a81005af",
   "metadata": {},
   "outputs": [],
   "source": [
    "with open('coord2.txt', 'w') as file:\n",
    "    for seed in seeds.tolist():\n",
    "        file.write(str(seed)[1:-1].replace(\",\", \"\") +\"\\n\")"
   ]
  },
  {
   "cell_type": "code",
   "execution_count": 153,
   "id": "2cbf17aa-253b-49aa-88af-41953b4808f6",
   "metadata": {},
   "outputs": [
    {
     "data": {
      "text/plain": [
       "'-60.9095458984375 7.280899763107314 1.7439792156219482'"
      ]
     },
     "execution_count": 153,
     "metadata": {},
     "output_type": "execute_result"
    }
   ],
   "source": [
    "str(seed)[1:-1].replace(\",\", \"\")\n",
    "    "
   ]
  },
  {
   "cell_type": "code",
   "execution_count": null,
   "id": "e1ea6839-1c51-40ff-bfbd-87d5d3e3120a",
   "metadata": {},
   "outputs": [],
   "source": [
    "def save_seed_coords(fdwi,fbval,fbvec, mask_path):\n",
    "    mask_data, mask_affine, mask_img = load_nifti(mask_path, return_img=True)\n",
    "    seeds = utils.seeds_from_mask(mask_data, mask_affine, density=1)\n",
    "    with open('coord2.txt', 'w') as file:\n",
    "        for seed in seeds.tolist():\n",
    "            file.write(str(seed)[1:-1].replace(\",\", \"\") +\"\\n\")\n",
    "        "
   ]
  },
  {
   "cell_type": "code",
   "execution_count": 108,
   "id": "469d1f4f-abde-44b9-812f-1790416633a2",
   "metadata": {},
   "outputs": [],
   "source": [
    "def tractography_preproc(fdwi,fbval,fbvec, mask_path):\n",
    "    data, last_affine, img = load_nifti(fdwi, return_img=True)\n",
    "    bvals, bvecs = read_bvals_bvecs(fbval, fbvec)\n",
    "    gtab = gradient_table(bvals, bvecs)\n",
    "    mask_data, mask_affine, mask_img = load_nifti(mask_path, return_img=True)\n",
    "    \n",
    "    affine = np.eye(4)\n",
    "    \n",
    "    seeds = utils.seeds_from_mask(mask_data, affine, density=1)\n",
    "    stopping_criterion = BinaryStoppingCriterion(mask_data)\n",
    "    \n",
    "    csamodel = shm.CsaOdfModel(gtab, 6)\n",
    "    csapeaks = peaks.peaks_from_model(model=csamodel,\n",
    "                                  data=data,\n",
    "                                  sphere=peaks.default_sphere,\n",
    "                                  relative_peak_threshold=.8,\n",
    "                                  min_separation_angle=45,\n",
    "                                  mask=mask_data)\n",
    "    streamline_generator = LocalTracking(csapeaks, stopping_criterion,\n",
    "                                     seeds, affine=affine,\n",
    "                                     step_size=0.5)\n",
    "\n",
    "    streamlines = Streamlines(streamline_generator)\n",
    "    \n",
    "    return streamlines, affine"
   ]
  },
  {
   "cell_type": "code",
   "execution_count": 109,
   "id": "ec4cd529",
   "metadata": {},
   "outputs": [],
   "source": [
    "streamlines, affine =tractography_preproc(fdwi,fbval,fbvec, wmseg_path)"
   ]
  },
  {
   "cell_type": "code",
   "execution_count": 110,
   "id": "96fb2eee-94f3-48e1-b35a-3bbc187abbc6",
   "metadata": {},
   "outputs": [],
   "source": [
    "labels, atlas_affine, atlas_img =load_nifti(altas_dti, return_img=True)"
   ]
  },
  {
   "cell_type": "code",
   "execution_count": 111,
   "id": "3e552446-3b55-4393-b45a-47cf2827525e",
   "metadata": {},
   "outputs": [],
   "source": [
    "new_atlas_data =labels.copy()"
   ]
  },
  {
   "cell_type": "code",
   "execution_count": 112,
   "id": "80250309-886c-4351-be4d-adebe93e1da4",
   "metadata": {
    "collapsed": true,
    "jupyter": {
     "outputs_hidden": true
    },
    "tags": []
   },
   "outputs": [
    {
     "name": "stdout",
     "output_type": "stream",
     "text": [
      "0 0\n",
      "2001 1\n",
      "2002 2\n",
      "2101 3\n",
      "2102 4\n",
      "2111 5\n",
      "2112 6\n",
      "2201 7\n",
      "2202 8\n",
      "2211 9\n",
      "2212 10\n",
      "2301 11\n",
      "2302 12\n",
      "2311 13\n",
      "2312 14\n",
      "2321 15\n",
      "2322 16\n",
      "2331 17\n",
      "2332 18\n",
      "2401 19\n",
      "2402 20\n",
      "2501 21\n",
      "2502 22\n",
      "2601 23\n",
      "2602 24\n",
      "2611 25\n",
      "2612 26\n",
      "2701 27\n",
      "2702 28\n",
      "3001 29\n",
      "3002 30\n",
      "4001 31\n",
      "4002 32\n",
      "4011 33\n",
      "4012 34\n",
      "4021 35\n",
      "4022 36\n",
      "4101 37\n",
      "4102 38\n",
      "4111 39\n",
      "4112 40\n",
      "4201 41\n",
      "4202 42\n",
      "5001 43\n",
      "5002 44\n",
      "5011 45\n",
      "5012 46\n",
      "5021 47\n",
      "5022 48\n",
      "5101 49\n",
      "5102 50\n",
      "5201 51\n",
      "5202 52\n",
      "5301 53\n",
      "5302 54\n",
      "5401 55\n",
      "5402 56\n",
      "6001 57\n",
      "6002 58\n",
      "6101 59\n",
      "6102 60\n",
      "6201 61\n",
      "6202 62\n",
      "6211 63\n",
      "6212 64\n",
      "6221 65\n",
      "6222 66\n",
      "6301 67\n",
      "6302 68\n",
      "6401 69\n",
      "6402 70\n",
      "7001 71\n",
      "7002 72\n",
      "7011 73\n",
      "7012 74\n",
      "7021 75\n",
      "7022 76\n",
      "7101 77\n",
      "7102 78\n",
      "8101 79\n",
      "8102 80\n",
      "8111 81\n",
      "8112 82\n",
      "8121 83\n",
      "8122 84\n",
      "8201 85\n",
      "8202 86\n",
      "8211 87\n",
      "8212 88\n",
      "8301 89\n",
      "8302 90\n",
      "9001 91\n",
      "9002 92\n",
      "9011 93\n",
      "9012 94\n",
      "9021 95\n",
      "9022 96\n",
      "9031 97\n",
      "9032 98\n",
      "9041 99\n",
      "9042 100\n",
      "9051 101\n",
      "9052 102\n",
      "9061 103\n",
      "9062 104\n",
      "9071 105\n",
      "9072 106\n",
      "9081 107\n",
      "9082 108\n",
      "9100 109\n",
      "9110 110\n",
      "9120 111\n",
      "9130 112\n",
      "9140 113\n",
      "9150 114\n",
      "9160 115\n",
      "9170 116\n"
     ]
    }
   ],
   "source": [
    "for elem, new_elem in zip(np.unique(labels),list(range(np.unique(labels).shape[0]))):\n",
    "    print(elem, new_elem)\n",
    "    new_atlas_data[new_atlas_data==elem]=new_elem"
   ]
  },
  {
   "cell_type": "code",
   "execution_count": 113,
   "id": "2d13ecf2-f82b-4973-9326-882eac570d6b",
   "metadata": {},
   "outputs": [
    {
     "data": {
      "text/plain": [
       "array([  0,   1,   2,   3,   4,   5,   6,   7,   8,   9,  10,  11,  12,\n",
       "        13,  14,  15,  16,  17,  18,  19,  20,  21,  22,  23,  24,  25,\n",
       "        26,  27,  28,  29,  30,  31,  32,  33,  34,  35,  36,  37,  38,\n",
       "        39,  40,  41,  42,  43,  44,  45,  46,  47,  48,  49,  50,  51,\n",
       "        52,  53,  54,  55,  56,  57,  58,  59,  60,  61,  62,  63,  64,\n",
       "        65,  66,  67,  68,  69,  70,  71,  72,  73,  74,  75,  76,  77,\n",
       "        78,  79,  80,  81,  82,  83,  84,  85,  86,  87,  88,  89,  90,\n",
       "        91,  92,  93,  94,  95,  96,  97,  98,  99, 100, 101, 102, 103,\n",
       "       104, 105, 106, 107, 108, 109, 110, 111, 112, 113, 114, 115, 116],\n",
       "      dtype=uint8)"
      ]
     },
     "execution_count": 113,
     "metadata": {},
     "output_type": "execute_result"
    }
   ],
   "source": [
    "np.unique(new_atlas_data.astype(np.uint8))"
   ]
  },
  {
   "cell_type": "code",
   "execution_count": 114,
   "id": "f7b97c15-c491-47f3-b7e6-46eddc489d22",
   "metadata": {},
   "outputs": [],
   "source": [
    "M, grouping = utils.connectivity_matrix(streamlines, affine,\n",
    "                                        new_atlas_data.astype(np.uint8),\n",
    "                                        return_mapping=True,\n",
    "                                        mapping_as_streamlines=True)"
   ]
  },
  {
   "cell_type": "code",
   "execution_count": 115,
   "id": "b45b6f21-6ad4-4817-aeb7-4cbe32b44854",
   "metadata": {},
   "outputs": [
    {
     "data": {
      "text/plain": [
       "<matplotlib.image.AxesImage at 0x7f27e5de4700>"
      ]
     },
     "execution_count": 115,
     "metadata": {},
     "output_type": "execute_result"
    },
    {
     "data": {
      "image/png": "[encoded data removed]",
      "text/plain": [
       "<Figure size 640x480 with 1 Axes>"
      ]
     },
     "metadata": {},
     "output_type": "display_data"
    }
   ],
   "source": [
    "plt.imshow(np.log1p(M), interpolation='nearest')"
   ]
  },
  {
   "cell_type": "code",
   "execution_count": 88,
   "id": "60abce05-9367-434d-b508-599e22a4747c",
   "metadata": {},
   "outputs": [
    {
     "data": {
      "text/plain": [
       "<matplotlib.image.AxesImage at 0x7f27e5373190>"
      ]
     },
     "execution_count": 88,
     "metadata": {},
     "output_type": "execute_result"
    },
    {
     "data": {
      "image/png": "[encoded data removed]",
      "text/plain": [
       "<Figure size 640x480 with 1 Axes>"
      ]
     },
     "metadata": {},
     "output_type": "display_data"
    }
   ],
   "source": [
    "plt.imshow(np.log1p(M), interpolation='nearest')"
   ]
  },
  {
   "cell_type": "markdown",
   "id": "5bad8513-cb86-4fbd-bbeb-ec72b0cc0a61",
   "metadata": {},
   "source": [
    "## Preprocessing All Data"
   ]
  },
  {
   "cell_type": "code",
   "execution_count": 4,
   "id": "f78c4fa0-d213-49b7-bd08-9147a70bf6cc",
   "metadata": {},
   "outputs": [],
   "source": [
    "from pathlib import Path"
   ]
  },
  {
   "cell_type": "code",
   "execution_count": 10,
   "id": "c77480b6-5c16-490a-9a5b-8c65bd059ab9",
   "metadata": {},
   "outputs": [],
   "source": [
    "data_package ='/workspace/home/zubrikhina/datasets/COBRE_preproc_dti/'"
   ]
  },
  {
   "cell_type": "code",
   "execution_count": 145,
   "id": "b8118090-56cc-45d7-a03c-ed8bc828672e",
   "metadata": {},
   "outputs": [],
   "source": [
    "def preproc_atlas(atlas_data):\n",
    "    new_atlas_data =atlas_data.copy()\n",
    "    for elem, new_elem in zip(np.unique(atlas_data),list(range(np.unique(atlas_data).shape[0]))):\n",
    "        new_atlas_data[new_atlas_data==elem]=new_elem\n",
    "    return new_atlas_data "
   ]
  },
  {
   "cell_type": "code",
   "execution_count": 146,
   "id": "3a97a81f-b0e2-4abc-b9cf-4c2cfc26fb7a",
   "metadata": {
    "collapsed": true,
    "jupyter": {
     "outputs_hidden": true
    },
    "tags": []
   },
   "outputs": [
    {
     "name": "stdout",
     "output_type": "stream",
     "text": [
      "(116, 116)\n",
      "(116, 116)\n",
      "(116, 116)\n",
      "(116, 116)\n",
      "(116, 116)\n",
      "(116, 116)\n",
      "(116, 116)\n",
      "(116, 116)\n",
      "(116, 116)\n",
      "(116, 116)\n",
      "(116, 116)\n",
      "(116, 116)\n",
      "No such file or no access: '/workspace/datasets/COBRE_preproc_dti/sub-A00015759/sub-A00015759_labels.nii.gz'\n",
      "(116, 116)\n",
      "(116, 116)\n",
      "(116, 116)\n",
      "(116, 116)\n",
      "(116, 116)\n",
      "(116, 116)\n",
      "(116, 116)\n",
      "(116, 116)\n",
      "(116, 116)\n",
      "No such file or no access: '/workspace/datasets/COBRE_preproc_dti/sub-A00024372/sub-A00024372_dwi.nii_EC.nii.gz'\n",
      "(116, 116)\n",
      "No such file or no access: '/workspace/datasets/COBRE_preproc_dti/sub-A00028402/sub-A00028402_labels.nii.gz'\n",
      "(116, 116)\n",
      "No such file or no access: '/workspace/datasets/COBRE_preproc_dti/sub-A00031478/sub-A00031478_labels.nii.gz'\n",
      "(116, 116)\n",
      "(116, 116)\n",
      "(116, 116)\n",
      "(116, 116)\n",
      "(116, 116)\n",
      "(116, 116)\n",
      "(116, 116)\n",
      "No such file or no access: '/workspace/datasets/COBRE_preproc_dti/sub-A00031271/sub-A00031271_labels.nii.gz'\n",
      "(116, 116)\n",
      "(116, 116)\n",
      "(116, 116)\n",
      "(116, 116)\n",
      "(116, 116)\n",
      "(116, 116)\n",
      "No such file or no access: '/workspace/datasets/COBRE_preproc_dti/sub-A00015201/sub-A00015201_labels.nii.gz'\n",
      "(116, 116)\n",
      "(116, 116)\n",
      "(116, 116)\n",
      "(116, 116)\n",
      "(116, 116)\n",
      "(116, 116)\n",
      "(116, 116)\n",
      "(116, 116)\n",
      "(116, 116)\n",
      "(116, 116)\n",
      "(116, 116)\n",
      "(116, 116)\n",
      "No such file or no access: '/workspace/datasets/COBRE_preproc_dti/sub-A00027487/sub-A00027487_labels.nii.gz'\n",
      "(116, 116)\n",
      "(116, 116)\n",
      "(116, 116)\n",
      "(116, 116)\n",
      "(116, 116)\n",
      "(116, 116)\n",
      "(116, 116)\n",
      "No such file or no access: '/workspace/datasets/COBRE_preproc_dti/sub-A00023730/sub-A00023730_labels.nii.gz'\n",
      "(116, 116)\n",
      "(116, 116)\n",
      "(116, 116)\n",
      "(116, 116)\n",
      "(116, 116)\n",
      "(116, 116)\n",
      "(116, 116)\n",
      "(116, 116)\n",
      "(116, 116)\n",
      "(116, 116)\n",
      "No such file or no access: '/workspace/datasets/COBRE_preproc_dti/sub-A00029486/sub-A00029486_labels.nii.gz'\n",
      "(116, 116)\n",
      "(116, 116)\n",
      "(116, 116)\n",
      "(116, 116)\n",
      "No such file or no access: '/workspace/datasets/COBRE_preproc_dti/sub-A00027410/sub-A00027410_labels.nii.gz'\n",
      "(116, 116)\n",
      "(116, 116)\n",
      "No such file or no access: '/workspace/datasets/COBRE_preproc_dti/sub-A00028805/sub-A00028805_labels.nii.gz'\n",
      "(116, 116)\n",
      "(116, 116)\n",
      "(116, 116)\n",
      "No such file or no access: '/workspace/datasets/COBRE_preproc_dti/sub-A00028410/sub-A00028410_labels.nii.gz'\n",
      "No such file or no access: '/workspace/datasets/COBRE_preproc_dti/sub-A00000541/sub-A00000541_labels.nii.gz'\n",
      "(116, 116)\n",
      "(116, 116)\n",
      "(116, 116)\n",
      "No such file or no access: '/workspace/datasets/COBRE_preproc_dti/sub-A00031764/sub-A00031764_labels.nii.gz'\n",
      "(116, 116)\n",
      "(116, 116)\n",
      "(116, 116)\n",
      "(116, 116)\n",
      "(116, 116)\n",
      "(116, 116)\n",
      "(116, 116)\n",
      "(116, 116)\n",
      "(116, 116)\n",
      "(116, 116)\n",
      "(116, 116)\n",
      "(116, 116)\n",
      "(116, 116)\n",
      "(116, 116)\n",
      "(116, 116)\n",
      "(116, 116)\n",
      "(116, 116)\n",
      "(116, 116)\n",
      "No such file or no access: '/workspace/datasets/COBRE_preproc_dti/sub-A00004507/sub-A00004507_labels.nii.gz'\n",
      "(116, 116)\n",
      "(116, 116)\n",
      "(116, 116)\n",
      "(116, 116)\n",
      "(116, 116)\n",
      "(116, 116)\n",
      "No such file or no access: '/workspace/datasets/COBRE_preproc_dti/sub-A00029452/sub-A00029452_labels.nii.gz'\n",
      "(116, 116)\n",
      "(116, 116)\n",
      "(116, 116)\n",
      "(116, 116)\n",
      "(116, 116)\n",
      "(116, 116)\n",
      "(116, 116)\n",
      "(116, 116)\n",
      "No such file or no access: '/workspace/datasets/COBRE_preproc_dti/sub-A00029226/sub-A00029226_labels.nii.gz'\n",
      "(116, 116)\n",
      "(116, 116)\n",
      "(116, 116)\n",
      "No such file or no access: '/workspace/datasets/COBRE_preproc_dti/sub-A00033214/sub-A00033214_labels.nii.gz'\n",
      "(116, 116)\n",
      "(116, 116)\n",
      "(116, 116)\n",
      "(116, 116)\n",
      "(116, 116)\n",
      "(116, 116)\n",
      "(116, 116)\n",
      "(116, 116)\n",
      "No such file or no access: '/workspace/datasets/COBRE_preproc_dti/sub-A00031597/sub-A00031597_labels.nii.gz'\n",
      "(116, 116)\n",
      "(116, 116)\n",
      "(116, 116)\n",
      "(116, 116)\n",
      "(116, 116)\n",
      "(116, 116)\n",
      "(116, 116)\n",
      "(116, 116)\n",
      "No such file or no access: '/workspace/datasets/COBRE_preproc_dti/sub-A00028405/sub-A00028405_labels.nii.gz'\n",
      "(116, 116)\n",
      "(116, 116)\n",
      "No such file or no access: '/workspace/datasets/COBRE_preproc_dti/sub-A00035003/sub-A00035003_labels.nii.gz'\n",
      "(116, 116)\n",
      "No such file or no access: '/workspace/datasets/COBRE_preproc_dti/sub-A00028806/sub-A00028806_labels.nii.gz'\n",
      "(116, 116)\n",
      "(116, 116)\n",
      "(116, 116)\n",
      "No such file or no access: '/workspace/datasets/COBRE_preproc_dti/sub-A00028303/sub-A00028303_labels.nii.gz'\n",
      "(116, 116)\n",
      "(116, 116)\n",
      "(116, 116)\n",
      "No such file or no access: '/workspace/datasets/COBRE_preproc_dti/sub-A00028409/sub-A00028409_labels.nii.gz'\n",
      "(116, 116)\n",
      "No such file or no access: '/workspace/datasets/COBRE_preproc_dti/sub-A00023246/sub-A00023246_labels.nii.gz'\n",
      "(116, 116)\n",
      "(116, 116)\n",
      "(116, 116)\n",
      "No such file or no access: '/workspace/datasets/COBRE_preproc_dti/sub-A00028408/sub-A00028408_labels.nii.gz'\n",
      "(116, 116)\n",
      "(116, 116)\n",
      "(116, 116)\n"
     ]
    }
   ],
   "source": [
    "atlas_labels =fetch_atlas_aal()['labels']\n",
    "for sub_id in Path(data_package).iterdir():\n",
    "    try:\n",
    "        if sub_id.is_dir():\n",
    "         \n",
    "            altas_dti =f'{sub_id}/{sub_id.name}_label_fs.nii'\n",
    "            fdwi=f'{sub_id}/{sub_id.name}_dwi.nii_EC.nii.gz'\n",
    "            fbval =f'{sub_id}/{sub_id.name}_dwi.bval'\n",
    "            fbvec= f'{sub_id}/{sub_id.name}_adjs.bvec'\n",
    "            altas_dti =f'{sub_id}/{sub_id.name}_labels.nii.gz'\n",
    "            mask_path =f'{sub_id}/{sub_id.name}_mask.nii'\n",
    "            wmseg_path=f'/workspace/datasets/COBRE_preproc_dti/{ids}/{ids}_wmseg-in-DTI.nii.gz'\n",
    "            \n",
    "            \n",
    "            atlas_data, atlas_affine, atlas_img =load_nifti(altas_dti, return_img=True)\n",
    "            new_atlas_data =preproc_atlas(atlas_data)\n",
    "            \n",
    "            streamlines, affine =tractography_preproc(fdwi,fbval,fbvec, wmseg_path)\n",
    "            M, grouping = utils.connectivity_matrix(streamlines, affine,\n",
    "                                            new_atlas_data.astype(np.uint8),\n",
    "                                            return_mapping=True,\n",
    "                                            mapping_as_streamlines=True)\n",
    "            print(M[1:,1:].shape)\n",
    "            data =pd.DataFrame(M[1:,1:], columns=atlas_labels, index =atlas_labels)\n",
    "            data.to_csv(f'results/cobre_dti_AAL_CSA_WM/{sub_id.name}_dti.csv')\n",
    "    except Exception as e:\n",
    "        print(e)"
   ]
  },
  {
   "cell_type": "code",
   "execution_count": 14,
   "id": "9e290051-4b87-4283-b233-e75170e359c7",
   "metadata": {
    "collapsed": true,
    "jupyter": {
     "outputs_hidden": true
    },
    "tags": []
   },
   "outputs": [
    {
     "name": "stdout",
     "output_type": "stream",
     "text": [
      "/workspace/home/zubrikhina/datasets/COBRE_preproc_dti/sub-A00000838/coord2.txt\n",
      "/workspace/home/zubrikhina/datasets/COBRE_preproc_dti/sub-A00036844/coord2.txt\n",
      "/workspace/home/zubrikhina/datasets/COBRE_preproc_dti/sub-A00016197/coord2.txt\n",
      "/workspace/home/zubrikhina/datasets/COBRE_preproc_dti/sub-A00006754/coord2.txt\n",
      "/workspace/home/zubrikhina/datasets/COBRE_preproc_dti/sub-A00022509/coord2.txt\n",
      "/workspace/home/zubrikhina/datasets/COBRE_preproc_dti/sub-A00014590/coord2.txt\n",
      "/workspace/home/zubrikhina/datasets/COBRE_preproc_dti/sub-A00022400/coord2.txt\n",
      "/workspace/home/zubrikhina/datasets/COBRE_preproc_dti/sub-A00022727/coord2.txt\n",
      "/workspace/home/zubrikhina/datasets/COBRE_preproc_dti/sub-A00001251/coord2.txt\n",
      "/workspace/home/zubrikhina/datasets/COBRE_preproc_dti/sub-A00018317/coord2.txt\n",
      "/workspace/home/zubrikhina/datasets/COBRE_preproc_dti/sub-A00017147/coord2.txt\n",
      "/workspace/home/zubrikhina/datasets/COBRE_preproc_dti/sub-A00013816/coord2.txt\n",
      "No such file or no access: '/workspace/home/zubrikhina/datasets/COBRE_preproc_dti/sub-A00015759/sub-A00015759_mask.nii'\n",
      "/workspace/home/zubrikhina/datasets/COBRE_preproc_dti/sub-A00021598/coord2.txt\n",
      "/workspace/home/zubrikhina/datasets/COBRE_preproc_dti/sub-A00027787/coord2.txt\n",
      "/workspace/home/zubrikhina/datasets/COBRE_preproc_dti/sub-A00027969/coord2.txt\n",
      "/workspace/home/zubrikhina/datasets/COBRE_preproc_dti/sub-A00020414/coord2.txt\n",
      "/workspace/home/zubrikhina/datasets/COBRE_preproc_dti/sub-A00011265/coord2.txt\n",
      "/workspace/home/zubrikhina/datasets/COBRE_preproc_dti/sub-A00022810/coord2.txt\n",
      "/workspace/home/zubrikhina/datasets/COBRE_preproc_dti/sub-A00023866/coord2.txt\n",
      "/workspace/home/zubrikhina/datasets/COBRE_preproc_dti/sub-A00037619/coord2.txt\n",
      "/workspace/home/zubrikhina/datasets/COBRE_preproc_dti/sub-A00023750/coord2.txt\n",
      "/workspace/home/zubrikhina/datasets/COBRE_preproc_dti/sub-A00024372/coord2.txt\n",
      "/workspace/home/zubrikhina/datasets/COBRE_preproc_dti/sub-A00024663/coord2.txt\n",
      "No such file or no access: '/workspace/home/zubrikhina/datasets/COBRE_preproc_dti/sub-A00028402/sub-A00028402_mask.nii'\n",
      "/workspace/home/zubrikhina/datasets/COBRE_preproc_dti/sub-A00021081/coord2.txt\n",
      "No such file or no access: '/workspace/home/zubrikhina/datasets/COBRE_preproc_dti/sub-A00031478/sub-A00031478_mask.nii'\n",
      "/workspace/home/zubrikhina/datasets/COBRE_preproc_dti/sub-A00019888/coord2.txt\n",
      "/workspace/home/zubrikhina/datasets/COBRE_preproc_dti/sub-A00028404/coord2.txt\n",
      "/workspace/home/zubrikhina/datasets/COBRE_preproc_dti/sub-A00024684/coord2.txt\n",
      "/workspace/home/zubrikhina/datasets/COBRE_preproc_dti/sub-A00004087/coord2.txt\n",
      "/workspace/home/zubrikhina/datasets/COBRE_preproc_dti/sub-A00025969/coord2.txt\n",
      "/workspace/home/zubrikhina/datasets/COBRE_preproc_dti/sub-A00013363/coord2.txt\n",
      "/workspace/home/zubrikhina/datasets/COBRE_preproc_dti/sub-A00015518/coord2.txt\n",
      "No such file or no access: '/workspace/home/zubrikhina/datasets/COBRE_preproc_dti/sub-A00031271/sub-A00031271_mask.nii'\n",
      "/workspace/home/zubrikhina/datasets/COBRE_preproc_dti/sub-A00019750/coord2.txt\n",
      "/workspace/home/zubrikhina/datasets/COBRE_preproc_dti/sub-A00019349/coord2.txt\n",
      "/workspace/home/zubrikhina/datasets/COBRE_preproc_dti/sub-A00037495/coord2.txt\n",
      "/workspace/home/zubrikhina/datasets/COBRE_preproc_dti/sub-A00027391/coord2.txt\n",
      "/workspace/home/zubrikhina/datasets/COBRE_preproc_dti/sub-A00037224/coord2.txt\n",
      "/workspace/home/zubrikhina/datasets/COBRE_preproc_dti/sub-A00024198/coord2.txt\n",
      "No such file or no access: '/workspace/home/zubrikhina/datasets/COBRE_preproc_dti/sub-A00015201/sub-A00015201_mask.nii'\n",
      "/workspace/home/zubrikhina/datasets/COBRE_preproc_dti/sub-A00014522/coord2.txt\n",
      "/workspace/home/zubrikhina/datasets/COBRE_preproc_dti/sub-A00022687/coord2.txt\n",
      "/workspace/home/zubrikhina/datasets/COBRE_preproc_dti/sub-A00001452/coord2.txt\n",
      "/workspace/home/zubrikhina/datasets/COBRE_preproc_dti/sub-A00018979/coord2.txt\n",
      "/workspace/home/zubrikhina/datasets/COBRE_preproc_dti/sub-A00021145/coord2.txt\n",
      "/workspace/home/zubrikhina/datasets/COBRE_preproc_dti/sub-A00002480/coord2.txt\n",
      "/workspace/home/zubrikhina/datasets/COBRE_preproc_dti/sub-A00024932/coord2.txt\n",
      "/workspace/home/zubrikhina/datasets/COBRE_preproc_dti/sub-A00024535/coord2.txt\n",
      "/workspace/home/zubrikhina/datasets/COBRE_preproc_dti/sub-A00036049/coord2.txt\n",
      "/workspace/home/zubrikhina/datasets/COBRE_preproc_dti/sub-A00024568/coord2.txt\n",
      "/workspace/home/zubrikhina/datasets/COBRE_preproc_dti/sub-A00010684/coord2.txt\n",
      "/workspace/home/zubrikhina/datasets/COBRE_preproc_dti/sub-A00022653/coord2.txt\n",
      "No such file or no access: '/workspace/home/zubrikhina/datasets/COBRE_preproc_dti/sub-A00027487/sub-A00027487_mask.nii'\n",
      "/workspace/home/zubrikhina/datasets/COBRE_preproc_dti/sub-A00014719/coord2.txt\n",
      "/workspace/home/zubrikhina/datasets/COBRE_preproc_dti/sub-A00009946/coord2.txt\n",
      "/workspace/home/zubrikhina/datasets/COBRE_preproc_dti/sub-A00036897/coord2.txt\n",
      "/workspace/home/zubrikhina/datasets/COBRE_preproc_dti/sub-A00026907/coord2.txt\n",
      "/workspace/home/zubrikhina/datasets/COBRE_preproc_dti/sub-A00013140/coord2.txt\n",
      "/workspace/home/zubrikhina/datasets/COBRE_preproc_dti/sub-A00014636/coord2.txt\n",
      "/workspace/home/zubrikhina/datasets/COBRE_preproc_dti/sub-A00023131/coord2.txt\n",
      "No such file or no access: '/workspace/home/zubrikhina/datasets/COBRE_preproc_dti/sub-A00023730/sub-A00023730_mask.nii'\n",
      "/workspace/home/zubrikhina/datasets/COBRE_preproc_dti/sub-A00000909/coord2.txt\n",
      "/workspace/home/zubrikhina/datasets/COBRE_preproc_dti/sub-A00023132/coord2.txt\n",
      "/workspace/home/zubrikhina/datasets/COBRE_preproc_dti/sub-A00023590/coord2.txt\n",
      "/workspace/home/zubrikhina/datasets/COBRE_preproc_dti/sub-A00020805/coord2.txt\n",
      "/workspace/home/zubrikhina/datasets/COBRE_preproc_dti/sub-A00023800/coord2.txt\n",
      "/workspace/home/zubrikhina/datasets/COBRE_preproc_dti/sub-A00038624/coord2.txt\n",
      "/workspace/home/zubrikhina/datasets/COBRE_preproc_dti/sub-A00014225/coord2.txt\n",
      "/workspace/home/zubrikhina/datasets/COBRE_preproc_dti/sub-A00023243/coord2.txt\n",
      "/workspace/home/zubrikhina/datasets/COBRE_preproc_dti/sub-A00017294/coord2.txt\n",
      "/workspace/home/zubrikhina/datasets/COBRE_preproc_dti/sub-A00022729/coord2.txt\n",
      "No such file or no access: '/workspace/home/zubrikhina/datasets/COBRE_preproc_dti/sub-A00029486/sub-A00029486_mask.nii'\n",
      "/workspace/home/zubrikhina/datasets/COBRE_preproc_dti/sub-A00027537/coord2.txt\n",
      "/workspace/home/zubrikhina/datasets/COBRE_preproc_dti/sub-A00018553/coord2.txt\n",
      "/workspace/home/zubrikhina/datasets/COBRE_preproc_dti/sub-A00023330/coord2.txt\n",
      "/workspace/home/zubrikhina/datasets/COBRE_preproc_dti/sub-A00027616/coord2.txt\n",
      "No such file or no access: '/workspace/home/zubrikhina/datasets/COBRE_preproc_dti/sub-A00027410/sub-A00027410_mask.nii'\n",
      "/workspace/home/zubrikhina/datasets/COBRE_preproc_dti/sub-A00035836/coord2.txt\n",
      "/workspace/home/zubrikhina/datasets/COBRE_preproc_dti/sub-A00011725/coord2.txt\n",
      "No such file or no access: '/workspace/home/zubrikhina/datasets/COBRE_preproc_dti/sub-A00028805/sub-A00028805_mask.nii'\n",
      "/workspace/home/zubrikhina/datasets/COBRE_preproc_dti/sub-A00020602/coord2.txt\n",
      "/workspace/home/zubrikhina/datasets/COBRE_preproc_dti/sub-A00038172/coord2.txt\n",
      "/workspace/home/zubrikhina/datasets/COBRE_preproc_dti/sub-A00000368/coord2.txt\n",
      "No such file or no access: '/workspace/home/zubrikhina/datasets/COBRE_preproc_dti/sub-A00028410/sub-A00028410_mask.nii'\n",
      "No such file or no access: '/workspace/home/zubrikhina/datasets/COBRE_preproc_dti/sub-A00000541/sub-A00000541_mask.nii'\n",
      "/workspace/home/zubrikhina/datasets/COBRE_preproc_dti/sub-A00037034/coord2.txt\n",
      "/workspace/home/zubrikhina/datasets/COBRE_preproc_dti/sub-A00035485/coord2.txt\n",
      "/workspace/home/zubrikhina/datasets/COBRE_preproc_dti/sub-A00024953/coord2.txt\n",
      "No such file or no access: '/workspace/home/zubrikhina/datasets/COBRE_preproc_dti/sub-A00031764/sub-A00031764_mask.nii'\n",
      "/workspace/home/zubrikhina/datasets/COBRE_preproc_dti/sub-A00022592/coord2.txt\n",
      "/workspace/home/zubrikhina/datasets/COBRE_preproc_dti/sub-A00024301/coord2.txt\n",
      "/workspace/home/zubrikhina/datasets/COBRE_preproc_dti/sub-A00020787/coord2.txt\n",
      "/workspace/home/zubrikhina/datasets/COBRE_preproc_dti/sub-A00035751/coord2.txt\n",
      "/workspace/home/zubrikhina/datasets/COBRE_preproc_dti/sub-A00020416/coord2.txt\n",
      "/workspace/home/zubrikhina/datasets/COBRE_preproc_dti/sub-A00023120/coord2.txt\n",
      "/workspace/home/zubrikhina/datasets/COBRE_preproc_dti/sub-A00028189/coord2.txt\n",
      "/workspace/home/zubrikhina/datasets/COBRE_preproc_dti/sub-A00012995/coord2.txt\n",
      "/workspace/home/zubrikhina/datasets/COBRE_preproc_dti/sub-A00003150/coord2.txt\n",
      "/workspace/home/zubrikhina/datasets/COBRE_preproc_dti/sub-A00010150/coord2.txt\n",
      "/workspace/home/zubrikhina/datasets/COBRE_preproc_dti/sub-A00026945/coord2.txt\n",
      "/workspace/home/zubrikhina/datasets/COBRE_preproc_dti/sub-A00024959/coord2.txt\n",
      "/workspace/home/zubrikhina/datasets/COBRE_preproc_dti/sub-A00022773/coord2.txt\n",
      "/workspace/home/zubrikhina/datasets/COBRE_preproc_dti/sub-A00019293/coord2.txt\n",
      "/workspace/home/zubrikhina/datasets/COBRE_preproc_dti/sub-A00014607/coord2.txt\n",
      "/workspace/home/zubrikhina/datasets/COBRE_preproc_dti/sub-A00037318/coord2.txt\n",
      "/workspace/home/zubrikhina/datasets/COBRE_preproc_dti/sub-A00018403/coord2.txt\n",
      "/workspace/home/zubrikhina/datasets/COBRE_preproc_dti/sub-A00037665/coord2.txt\n",
      "No such file or no access: '/workspace/home/zubrikhina/datasets/COBRE_preproc_dti/sub-A00004507/sub-A00004507_mask.nii'\n",
      "/workspace/home/zubrikhina/datasets/COBRE_preproc_dti/sub-A00024546/coord2.txt\n",
      "/workspace/home/zubrikhina/datasets/COBRE_preproc_dti/sub-A00021072/coord2.txt\n",
      "/workspace/home/zubrikhina/datasets/COBRE_preproc_dti/sub-A00000456/coord2.txt\n",
      "/workspace/home/zubrikhina/datasets/COBRE_preproc_dti/sub-A00023158/coord2.txt\n",
      "/workspace/home/zubrikhina/datasets/COBRE_preproc_dti/sub-A00020984/coord2.txt\n",
      "/workspace/home/zubrikhina/datasets/COBRE_preproc_dti/sub-A00018129/coord2.txt\n",
      "No such file or no access: '/workspace/home/zubrikhina/datasets/COBRE_preproc_dti/sub-A00029452/sub-A00029452_mask.nii'\n",
      "/workspace/home/zubrikhina/datasets/COBRE_preproc_dti/sub-A00001181/coord2.txt\n",
      "/workspace/home/zubrikhina/datasets/COBRE_preproc_dti/sub-A00014830/coord2.txt\n",
      "/workspace/home/zubrikhina/datasets/COBRE_preproc_dti/sub-A00009280/coord2.txt\n",
      "/workspace/home/zubrikhina/datasets/COBRE_preproc_dti/sub-A00036916/coord2.txt\n",
      "/workspace/home/zubrikhina/datasets/COBRE_preproc_dti/sub-A00020895/coord2.txt\n",
      "/workspace/home/zubrikhina/datasets/COBRE_preproc_dti/sub-A00002405/coord2.txt\n",
      "/workspace/home/zubrikhina/datasets/COBRE_preproc_dti/sub-A00007409/coord2.txt\n",
      "/workspace/home/zubrikhina/datasets/COBRE_preproc_dti/sub-A00000300/coord2.txt\n",
      "No such file or no access: '/workspace/home/zubrikhina/datasets/COBRE_preproc_dti/sub-A00029226/sub-A00029226_mask.nii'\n",
      "/workspace/home/zubrikhina/datasets/COBRE_preproc_dti/sub-A00014898/coord2.txt\n",
      "/workspace/home/zubrikhina/datasets/COBRE_preproc_dti/sub-A00022500/coord2.txt\n",
      "/workspace/home/zubrikhina/datasets/COBRE_preproc_dti/sub-A00001243/coord2.txt\n",
      "No such file or no access: '/workspace/home/zubrikhina/datasets/COBRE_preproc_dti/sub-A00033214/sub-A00033214_mask.nii'\n",
      "/workspace/home/zubrikhina/datasets/COBRE_preproc_dti/sub-A00023095/coord2.txt\n",
      "/workspace/home/zubrikhina/datasets/COBRE_preproc_dti/sub-A00024955/coord2.txt\n",
      "/workspace/home/zubrikhina/datasets/COBRE_preproc_dti/sub-A00021058/coord2.txt\n",
      "/workspace/home/zubrikhina/datasets/COBRE_preproc_dti/sub-A00014804/coord2.txt\n",
      "/workspace/home/zubrikhina/datasets/COBRE_preproc_dti/sub-A00022837/coord2.txt\n",
      "/workspace/home/zubrikhina/datasets/COBRE_preproc_dti/sub-A00016723/coord2.txt\n",
      "/workspace/home/zubrikhina/datasets/COBRE_preproc_dti/sub-A00024446/coord2.txt\n",
      "/workspace/home/zubrikhina/datasets/COBRE_preproc_dti/sub-A00037854/coord2.txt\n",
      "No such file or no access: '/workspace/home/zubrikhina/datasets/COBRE_preproc_dti/sub-A00031597/sub-A00031597_mask.nii'\n",
      "/workspace/home/zubrikhina/datasets/COBRE_preproc_dti/sub-A00037564/coord2.txt\n",
      "/workspace/home/zubrikhina/datasets/COBRE_preproc_dti/sub-A00020968/coord2.txt\n",
      "/workspace/home/zubrikhina/datasets/COBRE_preproc_dti/sub-A00028052/coord2.txt\n",
      "/workspace/home/zubrikhina/datasets/COBRE_preproc_dti/sub-A00015648/coord2.txt\n",
      "/workspace/home/zubrikhina/datasets/COBRE_preproc_dti/sub-A00021085/coord2.txt\n",
      "/workspace/home/zubrikhina/datasets/COBRE_preproc_dti/sub-A00037238/coord2.txt\n",
      "/workspace/home/zubrikhina/datasets/COBRE_preproc_dti/sub-A00022835/coord2.txt\n",
      "/workspace/home/zubrikhina/datasets/COBRE_preproc_dti/sub-A00014175/coord2.txt\n",
      "No such file or no access: '/workspace/home/zubrikhina/datasets/COBRE_preproc_dti/sub-A00028405/sub-A00028405_mask.nii'\n",
      "/workspace/home/zubrikhina/datasets/COBRE_preproc_dti/sub-A00022490/coord2.txt\n",
      "/workspace/home/zubrikhina/datasets/COBRE_preproc_dti/sub-A00035859/coord2.txt\n",
      "No such file or no access: '/workspace/home/zubrikhina/datasets/COBRE_preproc_dti/sub-A00035003/sub-A00035003_mask.nii'\n",
      "/workspace/home/zubrikhina/datasets/COBRE_preproc_dti/sub-A00014120/coord2.txt\n",
      "No such file or no access: '/workspace/home/zubrikhina/datasets/COBRE_preproc_dti/sub-A00028806/sub-A00028806_mask.nii'\n",
      "/workspace/home/zubrikhina/datasets/COBRE_preproc_dti/sub-A00022915/coord2.txt\n",
      "/workspace/home/zubrikhina/datasets/COBRE_preproc_dti/sub-A00037649/coord2.txt\n",
      "/workspace/home/zubrikhina/datasets/COBRE_preproc_dti/sub-A00038441/coord2.txt\n",
      "No such file or no access: '/workspace/home/zubrikhina/datasets/COBRE_preproc_dti/sub-A00028303/sub-A00028303_mask.nii'\n",
      "/workspace/home/zubrikhina/datasets/COBRE_preproc_dti/sub-A00027755/coord2.txt\n",
      "/workspace/home/zubrikhina/datasets/COBRE_preproc_dti/sub-A00023366/coord2.txt\n",
      "/workspace/home/zubrikhina/datasets/COBRE_preproc_dti/sub-A00021591/coord2.txt\n",
      "No such file or no access: '/workspace/home/zubrikhina/datasets/COBRE_preproc_dti/sub-A00028409/sub-A00028409_mask.nii'\n",
      "/workspace/home/zubrikhina/datasets/COBRE_preproc_dti/sub-A00024160/coord2.txt\n",
      "No such file or no access: '/workspace/home/zubrikhina/datasets/COBRE_preproc_dti/sub-A00023246/sub-A00023246_mask.nii'\n",
      "/workspace/home/zubrikhina/datasets/COBRE_preproc_dti/sub-A00015826/coord2.txt\n",
      "/workspace/home/zubrikhina/datasets/COBRE_preproc_dti/sub-A00037007/coord2.txt\n",
      "/workspace/home/zubrikhina/datasets/COBRE_preproc_dti/sub-A00036555/coord2.txt\n",
      "No such file or no access: '/workspace/home/zubrikhina/datasets/COBRE_preproc_dti/sub-A00028408/sub-A00028408_mask.nii'\n",
      "/workspace/home/zubrikhina/datasets/COBRE_preproc_dti/sub-A00023848/coord2.txt\n",
      "/workspace/home/zubrikhina/datasets/COBRE_preproc_dti/sub-A00024228/coord2.txt\n",
      "/workspace/home/zubrikhina/datasets/COBRE_preproc_dti/sub-A00023337/coord2.txt\n"
     ]
    }
   ],
   "source": [
    "for sub_id in Path(data_package).iterdir():\n",
    "    try:\n",
    "        if sub_id.is_dir():\n",
    "            mask_path =f'{sub_id}/{sub_id.name}_mask.nii'\n",
    "            mask_data, mask_affine, mask_img = load_nifti(mask_path, return_img=True)\n",
    "            seeds = utils.seeds_from_mask(mask_data, mask_affine, density=1)\n",
    "            print(f'{sub_id}/coord2.txt')\n",
    "            with open(f'{sub_id}/coord2.txt', 'w') as file:\n",
    "                for seed in seeds.tolist():\n",
    "                    file.write(str(seed)[1:-1].replace(\",\", \"\") +\"\\n\")\n",
    "    except Exception as e:\n",
    "        print(e)      "
   ]
  },
  {
   "cell_type": "code",
   "execution_count": 13,
   "id": "57370c07-d56c-4bee-8f32-bbf172077872",
   "metadata": {
    "collapsed": true,
    "jupyter": {
     "outputs_hidden": true
    },
    "tags": []
   },
   "outputs": [
    {
     "data": {
      "text/plain": [
       "[PosixPath('/workspace/home/zubrikhina/datasets/COBRE_preproc_dti/sub-A00000838'),\n",
       " PosixPath('/workspace/home/zubrikhina/datasets/COBRE_preproc_dti/sub-A00036844'),\n",
       " PosixPath('/workspace/home/zubrikhina/datasets/COBRE_preproc_dti/sub-A00000909_TM.mat'),\n",
       " PosixPath('/workspace/home/zubrikhina/datasets/COBRE_preproc_dti/sub-A00016197'),\n",
       " PosixPath('/workspace/home/zubrikhina/datasets/COBRE_preproc_dti/sub-A00001452_TM.mat'),\n",
       " PosixPath('/workspace/home/zubrikhina/datasets/COBRE_preproc_dti/sub-A00006754'),\n",
       " PosixPath('/workspace/home/zubrikhina/datasets/COBRE_preproc_dti/sub-A00022509'),\n",
       " PosixPath('/workspace/home/zubrikhina/datasets/COBRE_preproc_dti/sub-A00014590'),\n",
       " PosixPath('/workspace/home/zubrikhina/datasets/COBRE_preproc_dti/sub-A00000456_labels.nii.gz'),\n",
       " PosixPath('/workspace/home/zubrikhina/datasets/COBRE_preproc_dti/sub-A00022400'),\n",
       " PosixPath('/workspace/home/zubrikhina/datasets/COBRE_preproc_dti/sub-A00001452_labels.nii.gz'),\n",
       " PosixPath('/workspace/home/zubrikhina/datasets/COBRE_preproc_dti/sub-A00022727'),\n",
       " PosixPath('/workspace/home/zubrikhina/datasets/COBRE_preproc_dti/sub-A00001251'),\n",
       " PosixPath('/workspace/home/zubrikhina/datasets/COBRE_preproc_dti/sub-A00001181_TM.mat'),\n",
       " PosixPath('/workspace/home/zubrikhina/datasets/COBRE_preproc_dti/sub-A00009946_labels.nii.gz'),\n",
       " PosixPath('/workspace/home/zubrikhina/datasets/COBRE_preproc_dti/sub-A00002405_labels.nii.gz'),\n",
       " PosixPath('/workspace/home/zubrikhina/datasets/COBRE_preproc_dti/sub-A00018317'),\n",
       " PosixPath('/workspace/home/zubrikhina/datasets/COBRE_preproc_dti/sub-A00017147'),\n",
       " PosixPath('/workspace/home/zubrikhina/datasets/COBRE_preproc_dti/sub-A00013816'),\n",
       " PosixPath('/workspace/home/zubrikhina/datasets/COBRE_preproc_dti/sub-A00000368_TM.mat'),\n",
       " PosixPath('/workspace/home/zubrikhina/datasets/COBRE_preproc_dti/sub-A00015759'),\n",
       " PosixPath('/workspace/home/zubrikhina/datasets/COBRE_preproc_dti/sub-A00021598'),\n",
       " PosixPath('/workspace/home/zubrikhina/datasets/COBRE_preproc_dti/sub-A00027787'),\n",
       " PosixPath('/workspace/home/zubrikhina/datasets/COBRE_preproc_dti/sub-A00027969'),\n",
       " PosixPath('/workspace/home/zubrikhina/datasets/COBRE_preproc_dti/sub-A00001251_TM.mat'),\n",
       " PosixPath('/workspace/home/zubrikhina/datasets/COBRE_preproc_dti/sub-A00020414'),\n",
       " PosixPath('/workspace/home/zubrikhina/datasets/COBRE_preproc_dti/sub-A00011265'),\n",
       " PosixPath('/workspace/home/zubrikhina/datasets/COBRE_preproc_dti/sub-A00022810'),\n",
       " PosixPath('/workspace/home/zubrikhina/datasets/COBRE_preproc_dti/sub-A00023866'),\n",
       " PosixPath('/workspace/home/zubrikhina/datasets/COBRE_preproc_dti/sub-A00037619'),\n",
       " PosixPath('/workspace/home/zubrikhina/datasets/COBRE_preproc_dti/sub-A00023750'),\n",
       " PosixPath('/workspace/home/zubrikhina/datasets/COBRE_preproc_dti/sub-A00000838_TM.mat'),\n",
       " PosixPath('/workspace/home/zubrikhina/datasets/COBRE_preproc_dti/sub-A00024372'),\n",
       " PosixPath('/workspace/home/zubrikhina/datasets/COBRE_preproc_dti/sub-A00024663'),\n",
       " PosixPath('/workspace/home/zubrikhina/datasets/COBRE_preproc_dti/sub-A00028402'),\n",
       " PosixPath('/workspace/home/zubrikhina/datasets/COBRE_preproc_dti/sub-A00021081'),\n",
       " PosixPath('/workspace/home/zubrikhina/datasets/COBRE_preproc_dti/sub-A00031478'),\n",
       " PosixPath('/workspace/home/zubrikhina/datasets/COBRE_preproc_dti/sub-A00010150_TM.mat'),\n",
       " PosixPath('/workspace/home/zubrikhina/datasets/COBRE_preproc_dti/sub-A00019888'),\n",
       " PosixPath('/workspace/home/zubrikhina/datasets/COBRE_preproc_dti/sub-A00028404'),\n",
       " PosixPath('/workspace/home/zubrikhina/datasets/COBRE_preproc_dti/sub-A00024684'),\n",
       " PosixPath('/workspace/home/zubrikhina/datasets/COBRE_preproc_dti/sub-A00004087'),\n",
       " PosixPath('/workspace/home/zubrikhina/datasets/COBRE_preproc_dti/sub-A00025969'),\n",
       " PosixPath('/workspace/home/zubrikhina/datasets/COBRE_preproc_dti/sub-A00013363'),\n",
       " PosixPath('/workspace/home/zubrikhina/datasets/COBRE_preproc_dti/sub-A00015518'),\n",
       " PosixPath('/workspace/home/zubrikhina/datasets/COBRE_preproc_dti/sub-A00031271'),\n",
       " PosixPath('/workspace/home/zubrikhina/datasets/COBRE_preproc_dti/sub-A00019750'),\n",
       " PosixPath('/workspace/home/zubrikhina/datasets/COBRE_preproc_dti/sub-A00019349'),\n",
       " PosixPath('/workspace/home/zubrikhina/datasets/COBRE_preproc_dti/sub-A00037495'),\n",
       " PosixPath('/workspace/home/zubrikhina/datasets/COBRE_preproc_dti/sub-A00027391'),\n",
       " PosixPath('/workspace/home/zubrikhina/datasets/COBRE_preproc_dti/sub-A00037224'),\n",
       " PosixPath('/workspace/home/zubrikhina/datasets/COBRE_preproc_dti/sub-A00024198'),\n",
       " PosixPath('/workspace/home/zubrikhina/datasets/COBRE_preproc_dti/sub-A00015201'),\n",
       " PosixPath('/workspace/home/zubrikhina/datasets/COBRE_preproc_dti/sub-A00002480_labels.nii.gz'),\n",
       " PosixPath('/workspace/home/zubrikhina/datasets/COBRE_preproc_dti/sub-A00014522'),\n",
       " PosixPath('/workspace/home/zubrikhina/datasets/COBRE_preproc_dti/sub-A00009946_TM.mat'),\n",
       " PosixPath('/workspace/home/zubrikhina/datasets/COBRE_preproc_dti/sub-A00022687'),\n",
       " PosixPath('/workspace/home/zubrikhina/datasets/COBRE_preproc_dti/sub-A00002480_TM.mat'),\n",
       " PosixPath('/workspace/home/zubrikhina/datasets/COBRE_preproc_dti/sub-A00001452'),\n",
       " PosixPath('/workspace/home/zubrikhina/datasets/COBRE_preproc_dti/sub-A00018979'),\n",
       " PosixPath('/workspace/home/zubrikhina/datasets/COBRE_preproc_dti/sub-A00007409_labels.nii.gz'),\n",
       " PosixPath('/workspace/home/zubrikhina/datasets/COBRE_preproc_dti/sub-A00021145'),\n",
       " PosixPath('/workspace/home/zubrikhina/datasets/COBRE_preproc_dti/sub-A00002480'),\n",
       " PosixPath('/workspace/home/zubrikhina/datasets/COBRE_preproc_dti/sub-A00024932'),\n",
       " PosixPath('/workspace/home/zubrikhina/datasets/COBRE_preproc_dti/sub-A00024535'),\n",
       " PosixPath('/workspace/home/zubrikhina/datasets/COBRE_preproc_dti/sub-A00010150_labels.nii.gz'),\n",
       " PosixPath('/workspace/home/zubrikhina/datasets/COBRE_preproc_dti/sub-A00036049'),\n",
       " PosixPath('/workspace/home/zubrikhina/datasets/COBRE_preproc_dti/sub-A00024568'),\n",
       " PosixPath('/workspace/home/zubrikhina/datasets/COBRE_preproc_dti/sub-A00010684'),\n",
       " PosixPath('/workspace/home/zubrikhina/datasets/COBRE_preproc_dti/sub-A00000909_labels.nii.gz'),\n",
       " PosixPath('/workspace/home/zubrikhina/datasets/COBRE_preproc_dti/sub-A00022653'),\n",
       " PosixPath('/workspace/home/zubrikhina/datasets/COBRE_preproc_dti/sub-A00027487'),\n",
       " PosixPath('/workspace/home/zubrikhina/datasets/COBRE_preproc_dti/sub-A00003150_labels.nii.gz'),\n",
       " PosixPath('/workspace/home/zubrikhina/datasets/COBRE_preproc_dti/sub-A00014719'),\n",
       " PosixPath('/workspace/home/zubrikhina/datasets/COBRE_preproc_dti/sub-A00001251_labels.nii.gz'),\n",
       " PosixPath('/workspace/home/zubrikhina/datasets/COBRE_preproc_dti/sub-A00009946'),\n",
       " PosixPath('/workspace/home/zubrikhina/datasets/COBRE_preproc_dti/sub-A00036897'),\n",
       " PosixPath('/workspace/home/zubrikhina/datasets/COBRE_preproc_dti/sub-A00026907'),\n",
       " PosixPath('/workspace/home/zubrikhina/datasets/COBRE_preproc_dti/sub-A00013140'),\n",
       " PosixPath('/workspace/home/zubrikhina/datasets/COBRE_preproc_dti/sub-A00014636'),\n",
       " PosixPath('/workspace/home/zubrikhina/datasets/COBRE_preproc_dti/sub-A00023131'),\n",
       " PosixPath('/workspace/home/zubrikhina/datasets/COBRE_preproc_dti/sub-A00023730'),\n",
       " PosixPath('/workspace/home/zubrikhina/datasets/COBRE_preproc_dti/sub-A00000909'),\n",
       " PosixPath('/workspace/home/zubrikhina/datasets/COBRE_preproc_dti/sub-A00023132'),\n",
       " PosixPath('/workspace/home/zubrikhina/datasets/COBRE_preproc_dti/sub-A00023590'),\n",
       " PosixPath('/workspace/home/zubrikhina/datasets/COBRE_preproc_dti/sub-A00020805'),\n",
       " PosixPath('/workspace/home/zubrikhina/datasets/COBRE_preproc_dti/sub-A00023800'),\n",
       " PosixPath('/workspace/home/zubrikhina/datasets/COBRE_preproc_dti/sub-A00038624'),\n",
       " PosixPath('/workspace/home/zubrikhina/datasets/COBRE_preproc_dti/sub-A00014225'),\n",
       " PosixPath('/workspace/home/zubrikhina/datasets/COBRE_preproc_dti/sub-A00023243'),\n",
       " PosixPath('/workspace/home/zubrikhina/datasets/COBRE_preproc_dti/sub-A00017294'),\n",
       " PosixPath('/workspace/home/zubrikhina/datasets/COBRE_preproc_dti/sub-A00022729'),\n",
       " PosixPath('/workspace/home/zubrikhina/datasets/COBRE_preproc_dti/sub-A00003150_TM.mat'),\n",
       " PosixPath('/workspace/home/zubrikhina/datasets/COBRE_preproc_dti/sub-A00029486'),\n",
       " PosixPath('/workspace/home/zubrikhina/datasets/COBRE_preproc_dti/sub-A00027537'),\n",
       " PosixPath('/workspace/home/zubrikhina/datasets/COBRE_preproc_dti/sub-A00018553'),\n",
       " PosixPath('/workspace/home/zubrikhina/datasets/COBRE_preproc_dti/sub-A00023330'),\n",
       " PosixPath('/workspace/home/zubrikhina/datasets/COBRE_preproc_dti/sub-A00027616'),\n",
       " PosixPath('/workspace/home/zubrikhina/datasets/COBRE_preproc_dti/sub-A00027410'),\n",
       " PosixPath('/workspace/home/zubrikhina/datasets/COBRE_preproc_dti/sub-A00035836'),\n",
       " PosixPath('/workspace/home/zubrikhina/datasets/COBRE_preproc_dti/sub-A00011725'),\n",
       " PosixPath('/workspace/home/zubrikhina/datasets/COBRE_preproc_dti/sub-A00028805'),\n",
       " PosixPath('/workspace/home/zubrikhina/datasets/COBRE_preproc_dti/sub-A00020602'),\n",
       " PosixPath('/workspace/home/zubrikhina/datasets/COBRE_preproc_dti/sub-A00038172'),\n",
       " PosixPath('/workspace/home/zubrikhina/datasets/COBRE_preproc_dti/sub-A00000368'),\n",
       " PosixPath('/workspace/home/zubrikhina/datasets/COBRE_preproc_dti/sub-A00028410'),\n",
       " PosixPath('/workspace/home/zubrikhina/datasets/COBRE_preproc_dti/sub-A00000541'),\n",
       " PosixPath('/workspace/home/zubrikhina/datasets/COBRE_preproc_dti/sub-A00037034'),\n",
       " PosixPath('/workspace/home/zubrikhina/datasets/COBRE_preproc_dti/sub-A00035485'),\n",
       " PosixPath('/workspace/home/zubrikhina/datasets/COBRE_preproc_dti/sub-A00024953'),\n",
       " PosixPath('/workspace/home/zubrikhina/datasets/COBRE_preproc_dti/sub-A00031764'),\n",
       " PosixPath('/workspace/home/zubrikhina/datasets/COBRE_preproc_dti/sub-A00022592'),\n",
       " PosixPath('/workspace/home/zubrikhina/datasets/COBRE_preproc_dti/sub-A00024301'),\n",
       " PosixPath('/workspace/home/zubrikhina/datasets/COBRE_preproc_dti/sub-A00020787'),\n",
       " PosixPath('/workspace/home/zubrikhina/datasets/COBRE_preproc_dti/sub-A00035751'),\n",
       " PosixPath('/workspace/home/zubrikhina/datasets/COBRE_preproc_dti/sub-A00020416'),\n",
       " PosixPath('/workspace/home/zubrikhina/datasets/COBRE_preproc_dti/sub-A00023120'),\n",
       " PosixPath('/workspace/home/zubrikhina/datasets/COBRE_preproc_dti/sub-A00028189'),\n",
       " PosixPath('/workspace/home/zubrikhina/datasets/COBRE_preproc_dti/sub-A00012995'),\n",
       " PosixPath('/workspace/home/zubrikhina/datasets/COBRE_preproc_dti/sub-A00003150'),\n",
       " PosixPath('/workspace/home/zubrikhina/datasets/COBRE_preproc_dti/sub-A00010150'),\n",
       " PosixPath('/workspace/home/zubrikhina/datasets/COBRE_preproc_dti/sub-A00026945'),\n",
       " PosixPath('/workspace/home/zubrikhina/datasets/COBRE_preproc_dti/sub-A00024959'),\n",
       " PosixPath('/workspace/home/zubrikhina/datasets/COBRE_preproc_dti/sub-A00022773'),\n",
       " PosixPath('/workspace/home/zubrikhina/datasets/COBRE_preproc_dti/sub-A00019293'),\n",
       " PosixPath('/workspace/home/zubrikhina/datasets/COBRE_preproc_dti/sub-A00014607'),\n",
       " PosixPath('/workspace/home/zubrikhina/datasets/COBRE_preproc_dti/sub-A00037318'),\n",
       " PosixPath('/workspace/home/zubrikhina/datasets/COBRE_preproc_dti/sub-A00000838_labels.nii.gz'),\n",
       " PosixPath('/workspace/home/zubrikhina/datasets/COBRE_preproc_dti/sub-A00018403'),\n",
       " PosixPath('/workspace/home/zubrikhina/datasets/COBRE_preproc_dti/sub-A00037665'),\n",
       " PosixPath('/workspace/home/zubrikhina/datasets/COBRE_preproc_dti/sub-A00001243_TM.mat'),\n",
       " PosixPath('/workspace/home/zubrikhina/datasets/COBRE_preproc_dti/sub-A00004507'),\n",
       " PosixPath('/workspace/home/zubrikhina/datasets/COBRE_preproc_dti/sub-A00024546'),\n",
       " PosixPath('/workspace/home/zubrikhina/datasets/COBRE_preproc_dti/sub-A00021072'),\n",
       " PosixPath('/workspace/home/zubrikhina/datasets/COBRE_preproc_dti/sub-A00000456'),\n",
       " PosixPath('/workspace/home/zubrikhina/datasets/COBRE_preproc_dti/sub-A00023158'),\n",
       " PosixPath('/workspace/home/zubrikhina/datasets/COBRE_preproc_dti/sub-A00020984'),\n",
       " PosixPath('/workspace/home/zubrikhina/datasets/COBRE_preproc_dti/sub-A00018129'),\n",
       " PosixPath('/workspace/home/zubrikhina/datasets/COBRE_preproc_dti/sub-A00000368_labels.nii.gz'),\n",
       " PosixPath('/workspace/home/zubrikhina/datasets/COBRE_preproc_dti/sub-A00029452'),\n",
       " PosixPath('/workspace/home/zubrikhina/datasets/COBRE_preproc_dti/sub-A00009280_TM.mat'),\n",
       " PosixPath('/workspace/home/zubrikhina/datasets/COBRE_preproc_dti/sub-A00004087_labels.nii.gz'),\n",
       " PosixPath('/workspace/home/zubrikhina/datasets/COBRE_preproc_dti/sub-A00001181'),\n",
       " PosixPath('/workspace/home/zubrikhina/datasets/COBRE_preproc_dti/sub-A00014830'),\n",
       " PosixPath('/workspace/home/zubrikhina/datasets/COBRE_preproc_dti/sub-A00009280'),\n",
       " PosixPath('/workspace/home/zubrikhina/datasets/COBRE_preproc_dti/sub-A00002405_TM.mat'),\n",
       " PosixPath('/workspace/home/zubrikhina/datasets/COBRE_preproc_dti/sub-A00036916'),\n",
       " PosixPath('/workspace/home/zubrikhina/datasets/COBRE_preproc_dti/sub-A00020895'),\n",
       " PosixPath('/workspace/home/zubrikhina/datasets/COBRE_preproc_dti/sub-A00006754_labels.nii.gz'),\n",
       " PosixPath('/workspace/home/zubrikhina/datasets/COBRE_preproc_dti/sub-A00002405'),\n",
       " PosixPath('/workspace/home/zubrikhina/datasets/COBRE_preproc_dti/sub-A00007409_TM.mat'),\n",
       " PosixPath('/workspace/home/zubrikhina/datasets/COBRE_preproc_dti/sub-A00007409'),\n",
       " PosixPath('/workspace/home/zubrikhina/datasets/COBRE_preproc_dti/sub-A00000300'),\n",
       " PosixPath('/workspace/home/zubrikhina/datasets/COBRE_preproc_dti/sub-A00029226'),\n",
       " PosixPath('/workspace/home/zubrikhina/datasets/COBRE_preproc_dti/sub-A00014898'),\n",
       " PosixPath('/workspace/home/zubrikhina/datasets/COBRE_preproc_dti/sub-A00022500'),\n",
       " PosixPath('/workspace/home/zubrikhina/datasets/COBRE_preproc_dti/sub-A00001243'),\n",
       " PosixPath('/workspace/home/zubrikhina/datasets/COBRE_preproc_dti/sub-A00033214'),\n",
       " PosixPath('/workspace/home/zubrikhina/datasets/COBRE_preproc_dti/sub-A00004087_TM.mat'),\n",
       " PosixPath('/workspace/home/zubrikhina/datasets/COBRE_preproc_dti/sub-A00023095'),\n",
       " PosixPath('/workspace/home/zubrikhina/datasets/COBRE_preproc_dti/sub-A00024955'),\n",
       " PosixPath('/workspace/home/zubrikhina/datasets/COBRE_preproc_dti/sub-A00021058'),\n",
       " PosixPath('/workspace/home/zubrikhina/datasets/COBRE_preproc_dti/sub-A00014804'),\n",
       " PosixPath('/workspace/home/zubrikhina/datasets/COBRE_preproc_dti/sub-A00022837'),\n",
       " PosixPath('/workspace/home/zubrikhina/datasets/COBRE_preproc_dti/sub-A00016723'),\n",
       " PosixPath('/workspace/home/zubrikhina/datasets/COBRE_preproc_dti/sub-A00024446'),\n",
       " PosixPath('/workspace/home/zubrikhina/datasets/COBRE_preproc_dti/sub-A00037854'),\n",
       " PosixPath('/workspace/home/zubrikhina/datasets/COBRE_preproc_dti/sub-A00031597'),\n",
       " PosixPath('/workspace/home/zubrikhina/datasets/COBRE_preproc_dti/sub-A00037564'),\n",
       " PosixPath('/workspace/home/zubrikhina/datasets/COBRE_preproc_dti/sub-A00020968'),\n",
       " PosixPath('/workspace/home/zubrikhina/datasets/COBRE_preproc_dti/sub-A00000456_TM.mat'),\n",
       " PosixPath('/workspace/home/zubrikhina/datasets/COBRE_preproc_dti/sub-A00028052'),\n",
       " PosixPath('/workspace/home/zubrikhina/datasets/COBRE_preproc_dti/sub-A00015648'),\n",
       " PosixPath('/workspace/home/zubrikhina/datasets/COBRE_preproc_dti/sub-A00006754_TM.mat'),\n",
       " PosixPath('/workspace/home/zubrikhina/datasets/COBRE_preproc_dti/sub-A00001181_labels.nii.gz'),\n",
       " PosixPath('/workspace/home/zubrikhina/datasets/COBRE_preproc_dti/sub-A00021085'),\n",
       " PosixPath('/workspace/home/zubrikhina/datasets/COBRE_preproc_dti/sub-A00037238'),\n",
       " PosixPath('/workspace/home/zubrikhina/datasets/COBRE_preproc_dti/sub-A00022835'),\n",
       " PosixPath('/workspace/home/zubrikhina/datasets/COBRE_preproc_dti/sub-A00014175'),\n",
       " PosixPath('/workspace/home/zubrikhina/datasets/COBRE_preproc_dti/sub-A00028405'),\n",
       " PosixPath('/workspace/home/zubrikhina/datasets/COBRE_preproc_dti/sub-A00022490'),\n",
       " PosixPath('/workspace/home/zubrikhina/datasets/COBRE_preproc_dti/sub-A00035859'),\n",
       " PosixPath('/workspace/home/zubrikhina/datasets/COBRE_preproc_dti/sub-A00035003'),\n",
       " PosixPath('/workspace/home/zubrikhina/datasets/COBRE_preproc_dti/sub-A00014120'),\n",
       " PosixPath('/workspace/home/zubrikhina/datasets/COBRE_preproc_dti/sub-A00028806'),\n",
       " PosixPath('/workspace/home/zubrikhina/datasets/COBRE_preproc_dti/sub-A00009280_labels.nii.gz'),\n",
       " PosixPath('/workspace/home/zubrikhina/datasets/COBRE_preproc_dti/sub-A00022915'),\n",
       " PosixPath('/workspace/home/zubrikhina/datasets/COBRE_preproc_dti/sub-A00037649'),\n",
       " PosixPath('/workspace/home/zubrikhina/datasets/COBRE_preproc_dti/sub-A00038441'),\n",
       " PosixPath('/workspace/home/zubrikhina/datasets/COBRE_preproc_dti/sub-A00028303'),\n",
       " PosixPath('/workspace/home/zubrikhina/datasets/COBRE_preproc_dti/sub-A00027755'),\n",
       " PosixPath('/workspace/home/zubrikhina/datasets/COBRE_preproc_dti/sub-A00023366'),\n",
       " PosixPath('/workspace/home/zubrikhina/datasets/COBRE_preproc_dti/sub-A00021591'),\n",
       " PosixPath('/workspace/home/zubrikhina/datasets/COBRE_preproc_dti/sub-A00028409'),\n",
       " PosixPath('/workspace/home/zubrikhina/datasets/COBRE_preproc_dti/sub-A00024160'),\n",
       " PosixPath('/workspace/home/zubrikhina/datasets/COBRE_preproc_dti/sub-A00023246'),\n",
       " PosixPath('/workspace/home/zubrikhina/datasets/COBRE_preproc_dti/sub-A00015826'),\n",
       " PosixPath('/workspace/home/zubrikhina/datasets/COBRE_preproc_dti/sub-A00037007'),\n",
       " PosixPath('/workspace/home/zubrikhina/datasets/COBRE_preproc_dti/sub-A00036555'),\n",
       " PosixPath('/workspace/home/zubrikhina/datasets/COBRE_preproc_dti/sub-A00028408'),\n",
       " PosixPath('/workspace/home/zubrikhina/datasets/COBRE_preproc_dti/sub-A00023848'),\n",
       " PosixPath('/workspace/home/zubrikhina/datasets/COBRE_preproc_dti/sub-A00001243_labels.nii.gz'),\n",
       " PosixPath('/workspace/home/zubrikhina/datasets/COBRE_preproc_dti/sub-A00024228'),\n",
       " PosixPath('/workspace/home/zubrikhina/datasets/COBRE_preproc_dti/sub-A00023337')]"
      ]
     },
     "execution_count": 13,
     "metadata": {},
     "output_type": "execute_result"
    }
   ],
   "source": [
    "list(Path(data_package).iterdir())"
   ]
  },
  {
   "cell_type": "code",
   "execution_count": null,
   "id": "80d8b585-fbb5-43c6-a02f-cc5f1d11a870",
   "metadata": {},
   "outputs": [],
   "source": []
  }
 ],
 "metadata": {
  "kernelspec": {
   "display_name": "Python 3 (ipykernel)",
   "language": "python",
   "name": "python3"
  },
  "language_info": {
   "codemirror_mode": {
    "name": "ipython",
    "version": 3
   },
   "file_extension": ".py",
   "mimetype": "text/x-python",
   "name": "python",
   "nbconvert_exporter": "python",
   "pygments_lexer": "ipython3",
   "version": "3.8.16"
  }
 },
 "nbformat": 4,
 "nbformat_minor": 5
}
